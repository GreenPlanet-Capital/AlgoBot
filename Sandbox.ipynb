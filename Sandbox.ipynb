{
 "cells": [
  {
   "cell_type": "code",
   "execution_count": 1,
   "id": "a7267c29",
   "metadata": {},
   "outputs": [],
   "source": [
    "import yfinance as yf\n",
    "import time"
   ]
  },
  {
   "cell_type": "code",
   "execution_count": null,
   "id": "d8516244",
   "metadata": {},
   "outputs": [
    {
     "name": "stdout",
     "output_type": "stream",
     "text": [
      "[*********************100%***********************]  1 of 1 completed\n",
      "Open         731.400024\n",
      "High         731.400024\n",
      "Low          731.400024\n",
      "Close        731.400024\n",
      "Adj Close    731.400024\n",
      "Volume         0.000000\n",
      "Name: 2021-06-16 14:12:10+05:30, dtype: float64\n",
      "Sleep Done\n",
      "[*********************100%***********************]  1 of 1 completed\n",
      "Open         730.799988\n",
      "High         730.799988\n",
      "Low          730.799988\n",
      "Close        730.799988\n",
      "Adj Close    730.799988\n",
      "Volume         0.000000\n",
      "Name: 2021-06-16 14:28:53+05:30, dtype: float64\n",
      "Sleep Done\n",
      "[*********************100%***********************]  1 of 1 completed\n",
      "Open         730.0\n",
      "High         730.0\n",
      "Low          730.0\n",
      "Close        730.0\n",
      "Adj Close    730.0\n",
      "Volume         0.0\n",
      "Name: 2021-06-16 14:45:27+05:30, dtype: float64\n",
      "Sleep Done\n",
      "[*********************100%***********************]  1 of 1 completed\n",
      "Open         718.049988\n",
      "High         718.049988\n",
      "Low          718.049988\n",
      "Close        718.049988\n",
      "Adj Close    718.049988\n",
      "Volume         0.000000\n",
      "Name: 2021-06-16 15:02:14+05:30, dtype: float64\n"
     ]
    }
   ],
   "source": [
    "for i in range(100):\n",
    "    data = yf.download(tickers = \"ADANIPORTS.NS\", period = \"1d\", interval = \"1m\").iloc[-1]\n",
    "    print(data)\n",
    "    time.sleep(60000)\n",
    "    print(\"Sleep Done\")\n",
    "\n",
    "    "
   ]
  },
  {
   "cell_type": "code",
   "execution_count": null,
   "id": "dbed57f6",
   "metadata": {},
   "outputs": [],
   "source": []
  }
 ],
 "metadata": {
  "kernelspec": {
   "display_name": "Python 3",
   "language": "python",
   "name": "python3"
  },
  "language_info": {
   "codemirror_mode": {
    "name": "ipython",
    "version": 3
   },
   "file_extension": ".py",
   "mimetype": "text/x-python",
   "name": "python",
   "nbconvert_exporter": "python",
   "pygments_lexer": "ipython3",
   "version": "3.8.5"
  }
 },
 "nbformat": 4,
 "nbformat_minor": 5
}
